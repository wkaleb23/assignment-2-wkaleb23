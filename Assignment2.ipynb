{
 "cells": [
  {
   "cell_type": "markdown",
   "source": [
    "# PROBLEM 1\n",
    "\n",
    "## Description\n",
    "\n",
    "The United States Postal Service (USPS) sells money orders identified by an 11-digit number. The first ten digits identify the money order, and the last one x11 is a check digit that satisfies:\n",
    "\n",
    "\n",
    "Write a Python function that takes one input argument, a 5-digit number, and similar to the validity check for the USPS mony order, check whether or not the given number is valid by checking that the last digit satisfies equation:\n",
    "\n",
    "\n",
    "Your function should return true if the given digit is valid, and false otherwise.\n",
    "\n",
    "Sample Input and Expected Output\n",
    "Valid IDs (your program should return True with these inputs:\n",
    "- 12340\n",
    "- 11114\n",
    "- 11119\n",
    "- 00000\n",
    "- 00101\n",
    "\n",
    "Invalid IDs (your program should return False):\n",
    "- 12346\n",
    "- 92437\n",
    "- 1232123\n",
    "\n",
    "## Notes\n",
    "\n",
    "Make sure you have a function checkId(money_order_id) that takes in a 5-digit number, performs the check described above, and returns True or False depending on if it is a valid money order identifier.\n",
    "Your code should be readable, clean, and easy to determine whether it is doing the right thing by looking at it (not necessarily running it!)\n",
    "It may be helpful (but is not required!) to utilize ASCII character mappings (e.g. https://www.asciitable.com/).\n",
    "In Python, ord(char) provides the ASCII int value of a given character\n",
    "chr(int) provides the character that is represented by the provided int value\n",
    "The join() function might be helpful to convert a list (or any sequence, such as a tuple) to a string\n",
    "Example: If my_list = ['a, 'b', 'c'], then \"+\".join(my_list) will produce a string a+b+c\n",
    "Reference: https://www.w3schools.com/python/ref_string_join.asp"
   ],
   "metadata": {
    "collapsed": false
   },
   "id": "d46134f916e1af03"
  },
  {
   "cell_type": "code",
   "execution_count": 21,
   "id": "initial_id",
   "metadata": {
    "collapsed": true,
    "ExecuteTime": {
     "end_time": "2023-10-17T01:47:38.936804100Z",
     "start_time": "2023-10-17T01:47:38.928058100Z"
    }
   },
   "outputs": [],
   "source": [
    "def checkID(money_order_id):\n",
    "    # check if the number is 5 digits\n",
    "    if len(money_order_id) != 5:\n",
    "        return False\n",
    "    else:\n",
    "        # add the first 4 digits\n",
    "        i = 1\n",
    "        sum_4 = 0\n",
    "        last_number = 0\n",
    "        for x in money_order_id:\n",
    "            if i < 5:\n",
    "                sum_4 += int(x)\n",
    "                i += 1\n",
    "            else:\n",
    "                last_number = int(x)\n",
    "        if (sum_4 % 5 == last_number) or (sum_4 == last_number % 5):\n",
    "            return True\n",
    "        else:\n",
    "            return False"
   ]
  },
  {
   "cell_type": "code",
   "execution_count": 24,
   "outputs": [
    {
     "name": "stdout",
     "output_type": "stream",
     "text": [
      "12340 :  True\n",
      "11114 :  True\n",
      "11119 :  True\n",
      "00000 :  True\n",
      "00101 :  True\n",
      "12346 :  False\n",
      "92437 :  False\n",
      "1232123 :  False\n"
     ]
    }
   ],
   "source": [
    "# in the example, 11119 was shown as valid, however, it is invalid\n",
    "valid_test_numbers = ['12340', '11114', '11119', '00000', '00101']\n",
    "invalid_test_numbers = ['12346', '92437', '1232123']\n",
    "\n",
    "for num in valid_test_numbers:\n",
    "    result = checkID(num)\n",
    "    print(num, ': ', result)\n",
    "    \n",
    "for bad_num in invalid_test_numbers:\n",
    "    result = checkID(bad_num)\n",
    "    print(bad_num, ': ', result)"
   ],
   "metadata": {
    "collapsed": false,
    "ExecuteTime": {
     "end_time": "2023-10-17T01:49:29.303957600Z",
     "start_time": "2023-10-17T01:49:29.293595200Z"
    }
   },
   "id": "a8cae6eea810ff1d"
  }
 ],
 "metadata": {
  "kernelspec": {
   "display_name": "Python 3",
   "language": "python",
   "name": "python3"
  },
  "language_info": {
   "codemirror_mode": {
    "name": "ipython",
    "version": 2
   },
   "file_extension": ".py",
   "mimetype": "text/x-python",
   "name": "python",
   "nbconvert_exporter": "python",
   "pygments_lexer": "ipython2",
   "version": "2.7.6"
  }
 },
 "nbformat": 4,
 "nbformat_minor": 5
}
