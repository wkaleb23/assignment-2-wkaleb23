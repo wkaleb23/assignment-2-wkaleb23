{
 "cells": [
  {
   "cell_type": "markdown",
   "source": [
    "# PROBLEM 1\n",
    "\n",
    "## Description\n",
    "\n",
    "The United States Postal Service (USPS) sells money orders identified by an 11-digit number. The first ten digits identify the money order, and the last one x11 is a check digit that satisfies:\n",
    "\n",
    "\n",
    "Write a Python function that takes one input argument, a 5-digit number, and similar to the validity check for the USPS mony order, check whether or not the given number is valid by checking that the last digit satisfies equation:\n",
    "\n",
    "\n",
    "Your function should return true if the given digit is valid, and false otherwise.\n",
    "\n",
    "Sample Input and Expected Output\n",
    "Valid IDs (your program should return True with these inputs:\n",
    "- 12340\n",
    "- 11114\n",
    "- 11119\n",
    "- 00000\n",
    "- 00101\n",
    "\n",
    "Invalid IDs (your program should return False):\n",
    "- 12346\n",
    "- 92437\n",
    "- 1232123\n",
    "\n",
    "## Notes\n",
    "\n",
    "Make sure you have a function checkId(money_order_id) that takes in a 5-digit number, performs the check described above, and returns True or False depending on if it is a valid money order identifier.\n",
    "Your code should be readable, clean, and easy to determine whether it is doing the right thing by looking at it (not necessarily running it!)\n",
    "It may be helpful (but is not required!) to utilize ASCII character mappings (e.g. https://www.asciitable.com/).\n",
    "In Python, ord(char) provides the ASCII int value of a given character\n",
    "chr(int) provides the character that is represented by the provided int value\n",
    "The join() function might be helpful to convert a list (or any sequence, such as a tuple) to a string\n",
    "Example: If my_list = ['a, 'b', 'c'], then \"+\".join(my_list) will produce a string a+b+c\n",
    "Reference: https://www.w3schools.com/python/ref_string_join.asp"
   ],
   "metadata": {
    "collapsed": false
   },
   "id": "d46134f916e1af03"
  },
  {
   "cell_type": "markdown",
   "source": [
    "### CODE"
   ],
   "metadata": {
    "collapsed": false
   },
   "id": "577f6a1b164b7eb"
  },
  {
   "cell_type": "code",
   "execution_count": 21,
   "id": "initial_id",
   "metadata": {
    "collapsed": true,
    "ExecuteTime": {
     "end_time": "2023-10-17T01:47:38.936804100Z",
     "start_time": "2023-10-17T01:47:38.928058100Z"
    }
   },
   "outputs": [],
   "source": [
    "def checkID(money_order_id):\n",
    "    # check if the number is 5 digits\n",
    "    if len(money_order_id) != 5:\n",
    "        return False\n",
    "    else:\n",
    "        # add the first 4 digits\n",
    "        count = 1\n",
    "        sum_4 = 0\n",
    "        last_number = 0\n",
    "        # add numbers\n",
    "        for x in money_order_id:\n",
    "            if count < 5:\n",
    "                sum_4 += int(x)\n",
    "                count += 1\n",
    "            else:\n",
    "                last_number = int(x)\n",
    "        # check validity\n",
    "        if (sum_4 % 5 == last_number) or (sum_4 == last_number % 5):\n",
    "            return True\n",
    "        else:\n",
    "            return False"
   ]
  },
  {
   "cell_type": "markdown",
   "source": [
    "### TEST"
   ],
   "metadata": {
    "collapsed": false
   },
   "id": "8aac043297264b4a"
  },
  {
   "cell_type": "code",
   "execution_count": 24,
   "outputs": [
    {
     "name": "stdout",
     "output_type": "stream",
     "text": [
      "12340 :  True\n",
      "11114 :  True\n",
      "11119 :  True\n",
      "00000 :  True\n",
      "00101 :  True\n",
      "12346 :  False\n",
      "92437 :  False\n",
      "1232123 :  False\n"
     ]
    }
   ],
   "source": [
    "valid_test_numbers = ['12340', '11114', '11119', '00000', '00101']\n",
    "invalid_test_numbers = ['12346', '92437', '1232123']\n",
    "\n",
    "for num in valid_test_numbers:\n",
    "    result = checkID(num)\n",
    "    print(num, ': ', result)\n",
    "    \n",
    "for bad_num in invalid_test_numbers:\n",
    "    result = checkID(bad_num)\n",
    "    print(bad_num, ': ', result)"
   ],
   "metadata": {
    "collapsed": false,
    "ExecuteTime": {
     "end_time": "2023-10-17T01:49:29.303957600Z",
     "start_time": "2023-10-17T01:49:29.293595200Z"
    }
   },
   "id": "a8cae6eea810ff1d"
  },
  {
   "cell_type": "markdown",
   "source": [
    "# PROBLEM 2\n",
    "\n",
    "## Description\n",
    "The {\\bf Shift cipher} is one of the oldest known cryptosystems, often attributed to Julius Caesar. The idea used in this cryptosystem is to replace each letter in an alphabet by another letter at a K distance from it.\n",
    "\n",
    "\n",
    "Formally, let's associate each letter with an integer. If we allow the key to be any integer with, the shift cipher can be defined as:\n",
    "\n",
    "\n",
    "So, for a shift cipher with, encode('A') will return the string 'T'. decode(A) will return the string 'H'.\n",
    "\n",
    "## Notes\n",
    "Do have at least 2 functions:\n",
    "- encrypt(message, k): Takes in a string and returns an string encrypted with a k-shift cipher\n",
    "- decrypt(payload, k): Takes in a string and returns a string decrypted with a k-shift cipher\n",
    "- Feel free to create additional helper functions if that helps"
   ],
   "metadata": {
    "collapsed": false
   },
   "id": "c432d387f8f8df5c"
  },
  {
   "cell_type": "markdown",
   "source": [
    "### CODE"
   ],
   "metadata": {
    "collapsed": false
   },
   "id": "8ce79f204f44fde1"
  },
  {
   "cell_type": "code",
   "execution_count": 61,
   "outputs": [],
   "source": [
    "def encrypt(message, k):\n",
    "    # define alphabet (with ord I was getting some strange results)\n",
    "    alphabet = 'abcdefghijklmnopqrstuvwxyz'\n",
    "    encrypted_result = ''\n",
    "    # loop through each letter\n",
    "    for letter in message:\n",
    "        # adding spaces where needed\n",
    "        if letter == ' ':\n",
    "            encrypted_result += ' '\n",
    "        # lowercase    \n",
    "        letter = letter.lower()\n",
    "        if letter in alphabet:\n",
    "            # find number, add k, get new letter\n",
    "            order_letter = alphabet.index(letter)\n",
    "            new_order = order_letter + k\n",
    "            new_order = new_order % 26\n",
    "            new_letter = alphabet[new_order]\n",
    "            encrypted_result += new_letter\n",
    "    return encrypted_result\n",
    "    \n",
    "def decrypt(payload, k):\n",
    "    alphabet = 'abcdefghijklmnopqrstuvwxyz'\n",
    "    decrypted_result = ''\n",
    "    for p in payload:\n",
    "        if p == ' ':\n",
    "            decrypted_result += ' '\n",
    "        p = p.lower()\n",
    "        # get number of letter, subtract k, get old letter\n",
    "        if p in alphabet:\n",
    "            order_letter = alphabet.index(p)\n",
    "            old_order = order_letter - k\n",
    "            old_order = old_order % 26\n",
    "            old_letter = alphabet[old_order]\n",
    "            decrypted_result += old_letter\n",
    "    return decrypted_result"
   ],
   "metadata": {
    "collapsed": false,
    "ExecuteTime": {
     "end_time": "2023-10-17T05:16:35.529062300Z",
     "start_time": "2023-10-17T05:16:35.520933Z"
    }
   },
   "id": "55e0f6ea2e6638d6"
  },
  {
   "cell_type": "markdown",
   "source": [
    "### TEST"
   ],
   "metadata": {
    "collapsed": false
   },
   "id": "2e3ade27f6b659c6"
  },
  {
   "cell_type": "code",
   "execution_count": 63,
   "outputs": [
    {
     "name": "stdout",
     "output_type": "stream",
     "text": [
      "Original: abcd\n",
      "Encrypted: bcde\n",
      "Decrypted: abcd\n",
      "Original: Hello World\n",
      "Encrypted: ifmmp xpsme\n",
      "Decrypted: hello world\n",
      "Original: My name is Wilson\n",
      "Encrypted: nz obnf jt xjmtpo\n",
      "Decrypted: my name is wilson\n",
      "\n",
      "Original: abcd\n",
      "Encrypted: fghi\n",
      "Decrypted: abcd\n",
      "Original: Hello World\n",
      "Encrypted: mjqqt btwqi\n",
      "Decrypted: hello world\n",
      "Original: My name is Wilson\n",
      "Encrypted: rd sfrj nx bnqxts\n",
      "Decrypted: my name is wilson\n",
      "\n",
      "Original: abcd\n",
      "Encrypted: tuvw\n",
      "Decrypted: abcd\n",
      "Original: Hello World\n",
      "Encrypted: axeeh phkew\n",
      "Decrypted: hello world\n",
      "Original: My name is Wilson\n",
      "Encrypted: fr gtfx bl pbelhg\n",
      "Decrypted: my name is wilson\n"
     ]
    }
   ],
   "source": [
    "test_strings = ['abcd', 'Hello World', 'My name is Wilson']\n",
    "test_k = [1, 5, 19]\n",
    "for k in test_k:\n",
    "    for t in test_strings:\n",
    "        print('Original:', t)\n",
    "        e = encrypt(t, k)\n",
    "        print('Encrypted:', e)\n",
    "        d = decrypt(e, k)\n",
    "        print('Decrypted:', d)\n",
    "    print()"
   ],
   "metadata": {
    "collapsed": false,
    "ExecuteTime": {
     "end_time": "2023-10-17T05:16:55.825622700Z",
     "start_time": "2023-10-17T05:16:55.787377200Z"
    }
   },
   "id": "97d1d8956e09fb55"
  },
  {
   "cell_type": "markdown",
   "source": [
    "# PROBLEM 3\n",
    "\n",
    "## Description\n",
    "Given a 2D N x N array matrix of ints, return True if the matrix is a magic square, False otherwise.\n",
    "\n",
    "A magic square is defined as one that is filled with distinct integers in the range and in which every row, column, and diagonal add up to the same number.\n",
    "\n",
    "## Example\n",
    "\n",
    "- is_magical([[8, 1, 6],[3, 5, 7],[4, 9, 2]]) returns True\n",
    "- is_magical([[1, 2],[3, 4]]) returns False"
   ],
   "metadata": {
    "collapsed": false
   },
   "id": "7d91c7b7c85db3f9"
  },
  {
   "cell_type": "markdown",
   "source": [
    "### CODE"
   ],
   "metadata": {
    "collapsed": false
   },
   "id": "bd2426543e97b535"
  },
  {
   "cell_type": "code",
   "execution_count": 58,
   "outputs": [],
   "source": [
    "def is_magical(matrix):\n",
    "    N = len(matrix)\n",
    "    \n",
    "    sum_rows = 0\n",
    "    for row in matrix:\n",
    "        sum_row = sum(row)\n",
    "        if sum_rows == 0:\n",
    "            sum_rows = sum_row\n",
    "        else:\n",
    "            if sum_row != sum_rows:\n",
    "                return False\n",
    "        \n",
    "    sum_cols = 0\n",
    "    for i in range(N):\n",
    "        sum_col = 0\n",
    "        for row in matrix:\n",
    "            sum_col += row[i]\n",
    "        if sum_cols == 0:\n",
    "            sum_cols = sum_col\n",
    "        else:\n",
    "            if sum_col != sum_cols:\n",
    "                return False\n",
    "    \n",
    "    diag_1 = 0\n",
    "    diag_2 = 0\n",
    "    for i in range(N):\n",
    "        diag_1 += matrix[i][i]\n",
    "        diag_2 += matrix[i][N - i - 1]\n",
    "        \n",
    "    sum_diags = 0 \n",
    "    if diag_1 != diag_2:\n",
    "        return False\n",
    "    else:\n",
    "        sum_diags = diag_1\n",
    "    \n",
    "    if sum_rows == sum_cols and sum_cols == sum_diags:\n",
    "        return True\n",
    "    else:\n",
    "        return False"
   ],
   "metadata": {
    "collapsed": false,
    "ExecuteTime": {
     "end_time": "2023-10-17T02:55:46.413084Z",
     "start_time": "2023-10-17T02:55:46.389076Z"
    }
   },
   "id": "dd06b2c73803a1ae"
  },
  {
   "cell_type": "markdown",
   "source": [
    "### TEST"
   ],
   "metadata": {
    "collapsed": false
   },
   "id": "bb3dc663b6528a8a"
  },
  {
   "cell_type": "code",
   "execution_count": 65,
   "outputs": [
    {
     "name": "stdout",
     "output_type": "stream",
     "text": [
      "[8, 1, 6]\n",
      "[3, 5, 7]\n",
      "[4, 9, 2]\n",
      "True\n",
      "\n",
      "[1, 2]\n",
      "[3, 4]\n",
      "False\n",
      "\n",
      "[1, 1, 1, 1]\n",
      "[1, 1, 1, 1]\n",
      "[1, 1, 1, 1]\n",
      "[1, 1, 1, 1]\n",
      "True\n",
      "\n",
      "[1, 2, 3]\n",
      "[1, 2, 3]\n",
      "[1, 2, 3]\n",
      "False\n"
     ]
    }
   ],
   "source": [
    "a1 = [[8, 1, 6],[3, 5, 7],[4, 9, 2]]\n",
    "a2 = [[1, 2],[3, 4]]\n",
    "a3 = [[1,1,1,1], [1,1,1,1], [1,1,1,1], [1,1,1,1]]\n",
    "a4 = [[1,2,3], [1,2,3], [1,2,3]]\n",
    "\n",
    "test_list = [a1, a2, a3, a4]\n",
    "for test in test_list:\n",
    "    t = is_magical(test)\n",
    "    for row in test:\n",
    "        print(row)\n",
    "    print(t)\n",
    "    print()"
   ],
   "metadata": {
    "collapsed": false,
    "ExecuteTime": {
     "end_time": "2023-10-17T05:21:08.142795Z",
     "start_time": "2023-10-17T05:21:08.131875Z"
    }
   },
   "id": "456276ae98f5a7c0"
  }
 ],
 "metadata": {
  "kernelspec": {
   "display_name": "Python 3",
   "language": "python",
   "name": "python3"
  },
  "language_info": {
   "codemirror_mode": {
    "name": "ipython",
    "version": 2
   },
   "file_extension": ".py",
   "mimetype": "text/x-python",
   "name": "python",
   "nbconvert_exporter": "python",
   "pygments_lexer": "ipython2",
   "version": "2.7.6"
  }
 },
 "nbformat": 4,
 "nbformat_minor": 5
}
